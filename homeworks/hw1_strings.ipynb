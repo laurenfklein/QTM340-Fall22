{
  "cells": [
    {
      "cell_type": "markdown",
      "metadata": {
        "id": "pxDozdbKGkv1"
      },
      "source": [
        "# Python basics: Strings\n",
        "\n",
        "In this homework, we'll learn a bit more about Python's string manipulation functions, which are of obvious relevance to this class. \n",
        "\n",
        "Another goal of this homework is to make you feel more comfortable with programming in Python, rather than R, as well as to feel more comfortable Googling when things don't work out and/or you need to learn how to do something in Python that you know how to do in R. \n",
        "\n",
        "### Before we get started, a quick note on Python versions\n",
        "\n",
        "There are two main \"branches\" of Python in current use: Python 2 and Python 3. Both of these branches have their own versions: the latest version of Python 2 (as of this writing) is Python 2.7.18, and the latest version of Python 3 is Python 3.10.6. The branches and versions all have slightly different capabilities and their syntax and structure are slightly different. Python 2 still has a larger number of users, but most data scientists using Python today use the newer version. Following their lead, we'll be using Python 3 in this course.\n",
        "\n",
        "The main reason you need to know about the two branches of Python is that you should be careful when looking up Python information on the Internet. This is fine do to, and even expected, but you should make sure whatever tutorial / sample code / StackOverflow thread / etc you're looking at is about Python 3, not Python 2."
      ]
    },
    {
      "cell_type": "markdown",
      "metadata": {
        "id": "rrTKu6EaGkv4"
      },
      "source": [
        "## Expressions and evaluation\n",
        "\n",
        "Because many of you are new to Python, but not new to programming, I want to start with a very high-level description of how programming works. This is true for all programming languages, including R. So, good news! You already know much of what you need to know to start learning Python! \n",
        "\n",
        "When you're writing a computer program, you're describing to the computer what you want, and then asking the computer to figure that thing out for you. Your description of what you want is called an *expression*. The process that the computer uses to turn your expression into whatever that expression means is called *evaluation.*\n",
        "\n",
        "Think of a science fiction movie where a character asks the computer, out loud, \"What's the square root of nine billion?\" or \"How many people older than 50 live in Paris, France?\" Those are examples of expressions. The process that the computer uses to transform those expressions into a response is evaluation.\n",
        "\n",
        "When the process of evaluation is complete, you're left with a single \"value\". Think of it schematically like so:\n",
        "\n",
        "![expressiondiagram.png](data:image/png;base64,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)\n",
        "\n",
        "What makes programming languages powerful is that they make it possible to write very precise and sophisticated expressions. And importantly, you can embed the results of evaluating one expression inside of another expression, or save the results of evaluating an expression for later in your program.\n",
        "\n",
        "You already know how to write expressions in R. What we're going to learn in this notebook is how to write the same kind of expressions in Python. "
      ]
    },
    {
      "cell_type": "markdown",
      "metadata": {
        "id": "ROiGWQLQGkv5"
      },
      "source": [
        "## Arithmetic expressions\n",
        "\n",
        "We're going to start with simple arithmetic expressions, because they help us build to our knowledge of strings. \n",
        "\n",
        "The way that you write arithmetic expressions in Python is very similar to the way that you write arithmetic expressions in R. In the example below, `3 + 5` is the expression. In Colab, you tell Python to evaluate the expression and display its value by pressing `Ctrl-Enter` or, if you already know that you want to move to the next cell afterwards, `Shift-Enter`."
      ]
    },
    {
      "cell_type": "code",
      "execution_count": null,
      "metadata": {
        "id": "WziwH1eCGkv5"
      },
      "outputs": [],
      "source": [
        "3 + 5"
      ]
    },
    {
      "cell_type": "markdown",
      "metadata": {
        "id": "TAgOlJ5YGkv6"
      },
      "source": [
        "Arithmetic expressions in Python can be much more sophisticated than this, of course. We won't go over all of the details right now, but one thing you should know immediately is that Python arithmetic operations are evaluated using the typical order of operations, which you can override with parentheses:"
      ]
    },
    {
      "cell_type": "code",
      "execution_count": null,
      "metadata": {
        "id": "4NLP2gtlGkv7"
      },
      "outputs": [],
      "source": [
        "4 + 5 * 6"
      ]
    },
    {
      "cell_type": "code",
      "execution_count": null,
      "metadata": {
        "id": "hpNHd0QmGkv7"
      },
      "outputs": [],
      "source": [
        "(4 + 5) * 6"
      ]
    },
    {
      "cell_type": "markdown",
      "metadata": {
        "id": "avxh3ToSGkv7"
      },
      "source": [
        "You can write arithmetic expressions with or without spaces between the numbers and the operators (but usually it's considered better style to include spaces):"
      ]
    },
    {
      "cell_type": "code",
      "execution_count": null,
      "metadata": {
        "id": "muNPOd9LGkv7"
      },
      "outputs": [],
      "source": [
        "10+20+30"
      ]
    },
    {
      "cell_type": "markdown",
      "metadata": {
        "id": "_O2i8Z3eGkv8"
      },
      "source": [
        "Expressions in Python can also be very simple. In fact, a number on its own is its own expression, which Python evaluates to that number itself:"
      ]
    },
    {
      "cell_type": "code",
      "execution_count": null,
      "metadata": {
        "id": "ocI69lo_Gkv8"
      },
      "outputs": [],
      "source": [
        "19"
      ]
    },
    {
      "cell_type": "markdown",
      "metadata": {
        "id": "Kfa1zyDVGkv8"
      },
      "source": [
        "If you write an expression that Python doesn't understand, then you'll get an error. Here's what that looks like:"
      ]
    },
    {
      "cell_type": "code",
      "execution_count": null,
      "metadata": {
        "id": "aHTO0iWzGkv8"
      },
      "outputs": [],
      "source": [
        "+ 20 19"
      ]
    },
    {
      "cell_type": "markdown",
      "metadata": {
        "id": "YfG_BStPGkv8"
      },
      "source": [
        "**NB:** Remember what I said in the first class notebook about how important the error messages will become when it's time to debug. The error messages are your first clue to what is wrong with your code. Also, if the error message is confusing to you, Googling the error message is a good way to get more information about it. "
      ]
    },
    {
      "cell_type": "markdown",
      "metadata": {
        "id": "YVuiwh0zGkv9"
      },
      "source": [
        "## Expressions of inequality\n",
        "\n",
        "You can also ask Python whether two expressions evaluate to the same value, or if one expression evaluates to a value greater than another expression, using a similar familiar syntax. When evaluating such expressions, Python will return one of two special values: either `True` or `False`.\n",
        "\n",
        "The `==` operator compares the expression on its left side to the expression on its right side. It evaluates to `True` if the values are equal, and `False` if they're not equal."
      ]
    },
    {
      "cell_type": "code",
      "execution_count": null,
      "metadata": {
        "id": "BTf8GkQKGkv9"
      },
      "outputs": [],
      "source": [
        "3 * 5 == 9 + 6"
      ]
    },
    {
      "cell_type": "code",
      "execution_count": null,
      "metadata": {
        "id": "K4UGFQpuGkv9"
      },
      "outputs": [],
      "source": [
        "20 == 7 * 3"
      ]
    },
    {
      "cell_type": "markdown",
      "metadata": {
        "id": "XcDPzLytGkv9"
      },
      "source": [
        "The `<` operator compares the expression on its left side to the expression on its right side, evaluating to `True` if the left-side expression is less than the right-side expression, `False` otherwise. The `>` does the same thing, except checking to see if the left-side expression is greater than the right-side expression:"
      ]
    },
    {
      "cell_type": "code",
      "execution_count": null,
      "metadata": {
        "id": "PXJ6NxSeGkv9"
      },
      "outputs": [],
      "source": [
        "17 < 18"
      ]
    },
    {
      "cell_type": "code",
      "execution_count": null,
      "metadata": {
        "id": "q7Zcbn4tGkv-"
      },
      "outputs": [],
      "source": [
        "17 > 18"
      ]
    },
    {
      "cell_type": "markdown",
      "metadata": {
        "id": "T5kAEZ1gGkv-"
      },
      "source": [
        "The `>=` and `<=` operators translate to \"greater than or equal\" and \"lesser than or equal,\" respectively:"
      ]
    },
    {
      "cell_type": "code",
      "execution_count": null,
      "metadata": {
        "id": "s8SSGlInGkv-"
      },
      "outputs": [],
      "source": [
        "22 >= 22"
      ]
    },
    {
      "cell_type": "code",
      "execution_count": null,
      "metadata": {
        "id": "UQO9l206Gkv-"
      },
      "outputs": [],
      "source": [
        "22 <= 22"
      ]
    },
    {
      "cell_type": "markdown",
      "metadata": {
        "id": "rbl126ZxGkv-"
      },
      "source": [
        "Make sure to get the order of the angle bracket and the equal sign right!"
      ]
    },
    {
      "cell_type": "code",
      "execution_count": null,
      "metadata": {
        "id": "dHWOdBApGkv-"
      },
      "outputs": [],
      "source": [
        "22 =< 22"
      ]
    },
    {
      "cell_type": "markdown",
      "metadata": {
        "id": "HfmocxLKGkv-"
      },
      "source": [
        "## Variables\n",
        "\n",
        "You can save the result of evaluating an expression for later using the `=` operator (called the \"assignment operator\"). On the left-hand side of the `=`, write the variable name that you'd like to use to refer to the value of the expression, and on the right-hand side, write the expression itself. After you've assigned a value like this, whenever you include that variable in your code, Python will evaluate the word and replace it with the value you assigned to it earlier. Like so:"
      ]
    },
    {
      "cell_type": "code",
      "execution_count": null,
      "metadata": {
        "id": "HlUtRAvZGkv_"
      },
      "outputs": [],
      "source": [
        "x = (4 + 5) * 6\n",
        "x"
      ]
    },
    {
      "cell_type": "markdown",
      "metadata": {
        "id": "2Aow1XbdGkv_"
      },
      "source": [
        "(Notice that the line `x = (4 + 5) * 6` didn't cause Python to print anything out. An assignment in Python isn't an expression, it's a \"statement\"---we'll discuss the difference later.)\n",
        "\n",
        "After this, whenever you use the variable `x` in your program, it \"stands in\" for the result of the expression that you assigned to it."
      ]
    },
    {
      "cell_type": "code",
      "execution_count": null,
      "metadata": {
        "id": "jCQhndXxGkv_"
      },
      "outputs": [],
      "source": [
        "x / 6"
      ]
    },
    {
      "cell_type": "markdown",
      "metadata": {
        "id": "QLHtr-7SGkv_"
      },
      "source": [
        "You can create as many variables as you want!"
      ]
    },
    {
      "cell_type": "code",
      "execution_count": null,
      "metadata": {
        "id": "-a0tn8miGkv_"
      },
      "outputs": [],
      "source": [
        "another_variable = (x + 2) * 4\n",
        "another_variable"
      ]
    },
    {
      "cell_type": "markdown",
      "metadata": {
        "id": "ZWjMphCbGkv_"
      },
      "source": [
        "Variable names can contain letters, numbers and underscores, but must begin with a letter or underscore. There are other, more technical constraints on variable names; you can review them [here](http://en.wikibooks.org/wiki/Think_Python/Variables,_expressions_and_statements#Variable_names_and_keywords).\n",
        "\n",
        "If you attempt to use a the name of a variable that you haven't defined in the notebook, Python will raise an error:"
      ]
    },
    {
      "cell_type": "code",
      "execution_count": null,
      "metadata": {
        "id": "g5E22R8LGkv_"
      },
      "outputs": [],
      "source": [
        "my_favorite_snack"
      ]
    },
    {
      "cell_type": "markdown",
      "metadata": {
        "id": "UwFzilD5GkwA"
      },
      "source": [
        "If you assign a value to a variable, and then assign a value to it again, the previous value of the variable will be overwritten:"
      ]
    },
    {
      "cell_type": "code",
      "execution_count": null,
      "metadata": {
        "id": "l16h5BQwGkwA"
      },
      "outputs": [],
      "source": [
        "x = 15\n",
        "print(x)\n",
        "x = 42\n",
        "x"
      ]
    },
    {
      "cell_type": "markdown",
      "metadata": {
        "id": "d5x-tj_4GkwA"
      },
      "source": [
        "Note that I've been using a shortcut of Colab to print out the values of variables. If you end a cell with a variable on its own line, Colab will dump out its contents as output. This is very helpful when you don't care too much about the formatting of the variable. But if you need to print out anything along the way, or if you want to format a complicated variable nicely, you'll need to use a `print` staement. "
      ]
    },
    {
      "cell_type": "markdown",
      "metadata": {
        "id": "nf87QcZMGkwA"
      },
      "source": [
        "## Types\n",
        "\n",
        "Another important thing to know is that when Python evaluates an expression, it assigns the result to a \"type.\" A type is a description of what kind of thing a value is, and Python uses that information to determine later what you can do with that value, and what kinds of expressions that value can be used in. You can ask Python what type it thinks a particular expression evaluates to, or what type a particular value is, using the `type()` function:"
      ]
    },
    {
      "cell_type": "code",
      "execution_count": null,
      "metadata": {
        "id": "xWGvy3cjGkwA"
      },
      "outputs": [],
      "source": [
        "type(100 + 1)"
      ]
    },
    {
      "cell_type": "markdown",
      "metadata": {
        "id": "MRsAmzg9GkwA"
      },
      "source": [
        "Python has many, many other types, and lots of (sometimes arcane) rules for how those types interact with each other when used in the same expression. Some of these types and rules are the same as R, and some of them are different. It's fine to have to Google more information about a particular type or `TypeError.`"
      ]
    },
    {
      "cell_type": "code",
      "execution_count": null,
      "metadata": {
        "id": "jFWnBtgzGkwA"
      },
      "outputs": [],
      "source": [
        ">>> type(4 / 3)"
      ]
    },
    {
      "cell_type": "markdown",
      "metadata": {
        "id": "c4OUVSqZGkwB"
      },
      "source": [
        "And a note on type errors: throwing an expression into the `type()` function is a good way to know whether or not the value you're working with is the value you were expecting to work with. We'll use it for debugging some example code later."
      ]
    },
    {
      "cell_type": "markdown",
      "metadata": {
        "id": "Ngt3lsd8GkwB"
      },
      "source": [
        "## Strings\n",
        "\n",
        "This brings us to strings, the type we'll be using most in this course. To make an expression that evaluates to a string in Python, simply enclose some text inside of quotes:"
      ]
    },
    {
      "cell_type": "code",
      "execution_count": null,
      "metadata": {
        "id": "XAHHl2w_GkwB"
      },
      "outputs": [],
      "source": [
        "\"I still want to know about your favorite snack.\""
      ]
    },
    {
      "cell_type": "markdown",
      "metadata": {
        "id": "kvXAS-cxGkwB"
      },
      "source": [
        "Asking Python for the type of a string returns `str`:"
      ]
    },
    {
      "cell_type": "code",
      "execution_count": null,
      "metadata": {
        "id": "OzkktEKUGkwB"
      },
      "outputs": [],
      "source": [
        "type(\"I still want to know about your favorite snack.\")"
      ]
    },
    {
      "cell_type": "markdown",
      "metadata": {
        "id": "lyfAOh80GkwB"
      },
      "source": [
        "You can use single quotes or double quotes to enclose strings, as long as the opening quote matches the closing quote:"
      ]
    },
    {
      "cell_type": "code",
      "execution_count": null,
      "metadata": {
        "id": "EuTMnpRNGkwB"
      },
      "outputs": [],
      "source": [
        "'I still want to know about your favorite snack.'"
      ]
    },
    {
      "cell_type": "markdown",
      "metadata": {
        "id": "cxRpfDKiGkwB"
      },
      "source": [
        "(When you ask Python to evaluate a string expression, it will always display it with single quotes surrounding it.)\n",
        "\n",
        "You can assign strings to variables, just like any other value:"
      ]
    },
    {
      "cell_type": "code",
      "execution_count": null,
      "metadata": {
        "id": "aQ_Vq4eXGkwC"
      },
      "outputs": [],
      "source": [
        "life_goals = \"I still want to know about your favorite snack.\"\n",
        "life_goals"
      ]
    },
    {
      "cell_type": "markdown",
      "metadata": {
        "id": "n7ZOVgIvGkwC"
      },
      "source": [
        "In versions of Python previous to Python 3, it could be tedious to use any characters inside of strings that weren't ASCII characters (i.e., the letters, numbers and punctuation used most commonly when writing English--we will talk about this more in a few days). In Python 3, you can easily include whatever characters you want by typing them into the string directly:"
      ]
    },
    {
      "cell_type": "code",
      "execution_count": null,
      "metadata": {
        "id": "rkoDUIwJGkwC"
      },
      "outputs": [],
      "source": [
        "my_view_on_cats = \"我爱猫！😻\"\n",
        "my_view_on_cats"
      ]
    },
    {
      "cell_type": "markdown",
      "metadata": {
        "id": "y1nJIm8gGkwL"
      },
      "source": [
        "### \"Escaping\" special characters in strings\n",
        "\n",
        "Normally, if there are any characters you want in your string, all you have to do to put them there is type the characters in on your keyboard, or paste in the text that you want from some other source. There are some characters, however, that require special treatment and can't be typed into a string directly.\n",
        "\n",
        "For example, say you have a double-quoted string. Now, the rules about quoting strings (as outlined above) is that the quoted string begins with a double-quote character and ends with a double-quote character. But what if you want to include a double-quote character INSIDE the string? You might think you could do this:\n",
        "\n",
        "    >>> \"And then he said, \"I think that's a cool idea,\" and vanished.\"\n",
        "    \n",
        "But that won't work:"
      ]
    },
    {
      "cell_type": "code",
      "execution_count": null,
      "metadata": {
        "id": "LRh9aaA7GkwL"
      },
      "outputs": [],
      "source": [
        "\"And then he said, \"I think that's a cool idea,\" and vanished.\""
      ]
    },
    {
      "cell_type": "markdown",
      "metadata": {
        "id": "Vt1lncORGkwM"
      },
      "source": [
        "It doesn't work because Python interprets the first double-quote it sees after the beginning of the string as the double-quote that marks the end of the string. Then it sees all of the stuff after the string and says, \"okay, the programmer must not be having a good day?\" and displays a syntax error. Clearly, we need a way to tell Python \"I want you to interpret this character not with the special meaning it has in Python, but LITERALLY as the thing that I typed.\"\n",
        "\n",
        "We can do this exact thing by putting a backslash in front of the characters that we want Python to interpret literally, like so:"
      ]
    },
    {
      "cell_type": "code",
      "execution_count": null,
      "metadata": {
        "id": "flLSeCUOGkwM"
      },
      "outputs": [],
      "source": [
        "\"And then he said, \\\"I think that's a cool idea,\\\" and vanished.\""
      ]
    },
    {
      "cell_type": "markdown",
      "metadata": {
        "id": "de8QwXJhGkwM"
      },
      "source": [
        "A character indicated in this way is called an \"escape\" character (because you've \"escaped\" from the typical meaning of the character). There are several other useful escape characters to know about:\n",
        "\n",
        "* I showed `\\\"` above, but you can also use `\\'` in a single-quoted string.\n",
        "* Use `\\n` if you want to include a new line in your string.\n",
        "* Use `\\t` instead of hitting the tab key to put a tab in your string.\n",
        "* Because `\\` is itself the character used to escape other characters, you need to type `\\\\` if you actually want a backslash in your string.\n",
        "\n",
        "### Printing vs. evaluating\n",
        "\n",
        "There are two ways to see the result of an expression in the interactive interpreter. You can either type the expression directly:"
      ]
    },
    {
      "cell_type": "code",
      "execution_count": null,
      "metadata": {
        "id": "qvLvkTe-GkwM"
      },
      "outputs": [],
      "source": [
        "7 + 15"
      ]
    },
    {
      "cell_type": "code",
      "execution_count": null,
      "metadata": {
        "id": "4G_TS1t6GkwM"
      },
      "outputs": [],
      "source": [
        "\"\\tA \\\"string\\\" with escape\\ncharacters.\""
      ]
    },
    {
      "cell_type": "markdown",
      "metadata": {
        "id": "c_LT3LStGkwN"
      },
      "source": [
        "Or, as discussed in the last class, you can \"print\" the expression using the `print()` function by putting the expression inside the parentheses:"
      ]
    },
    {
      "cell_type": "code",
      "execution_count": null,
      "metadata": {
        "id": "7f6uurkDGkwN"
      },
      "outputs": [],
      "source": [
        "print(7 + 15)"
      ]
    },
    {
      "cell_type": "code",
      "execution_count": null,
      "metadata": {
        "scrolled": true,
        "id": "O5djlKHDGkwN"
      },
      "outputs": [],
      "source": [
        "print(\"\\tA \\\"string\\\" with escape\\ncharacters.\")"
      ]
    },
    {
      "cell_type": "markdown",
      "metadata": {
        "id": "AsGFBT6wGkwN"
      },
      "source": [
        "As you can see, the `print()` function doesn't make a huge difference when displaying the result of an arithmetic expression. But it *does* make a difference when printing a string. When you simply type an expression that evaluates to a string in order to display it, without the `print()` function, Python won't \"interpolate\" any special characters in the string. (\"Interpolate\" is a fancy computer programming term that means \"replace symbols in something with whatever those symbols represent.\") The `print()` function, on the other hand, *will* perform the interpolation.\n",
        "\n",
        "Typing the expression itself results in Python showing you *exactly* the code you'd need to copy and paste in order to replicate the vale. Typing the expression into `print()` tells Python to do its best to make the result of the expression look \"nice.\""
      ]
    },
    {
      "cell_type": "markdown",
      "metadata": {
        "id": "L3obgnN6GkwN"
      },
      "source": [
        "### Asking questions about strings\n",
        "\n",
        "Now that we understand the string type and how to print it, let's learn some of the ways Python allows us to do interesting things with strings.\n",
        "\n",
        "Let's talk about the `len()` function first. If you take an expression that evaluates to a string and put it inside the parentheses of `len()`, you get an integer value that indicates how long the string is. Like so:"
      ]
    },
    {
      "cell_type": "code",
      "execution_count": null,
      "metadata": {
        "id": "l_VGpSNHGkwO"
      },
      "outputs": [],
      "source": [
        "len(\"Suppose there is a pigeon, suppose there is.\")"
      ]
    },
    {
      "cell_type": "markdown",
      "metadata": {
        "id": "1snocfhsGkwO"
      },
      "source": [
        "The value that `len()` evaluates to can itself be used in other expressions (just like any other value!):"
      ]
    },
    {
      "cell_type": "code",
      "execution_count": null,
      "metadata": {
        "id": "H0pw0bmtGkwO"
      },
      "outputs": [],
      "source": [
        "len(\"Camembert\") + len(\"Cheddar\")"
      ]
    },
    {
      "cell_type": "markdown",
      "metadata": {
        "id": "YHPRQmZcGkwO"
      },
      "source": [
        "Next up: the `in` operator, which lets us check to see if a particular string is found inside of another string."
      ]
    },
    {
      "cell_type": "code",
      "execution_count": null,
      "metadata": {
        "id": "hGmgsvjpGkwO"
      },
      "outputs": [],
      "source": [
        "\"foo\" in \"buffoon\""
      ]
    },
    {
      "cell_type": "code",
      "execution_count": null,
      "metadata": {
        "id": "gYsVK481GkwO"
      },
      "outputs": [],
      "source": [
        "\"foo\" in \"reginald\""
      ]
    },
    {
      "cell_type": "markdown",
      "metadata": {
        "id": "ea56kgUlGkwO"
      },
      "source": [
        "The `in` operator takes one expression evaluating to a string on the left and another on the right, and returns `True` if the string on the left occurs somewhere inside of the string on the right.\n",
        "\n",
        "We can check to see if a string begins with or ends with another string using that string's `.startswith()` and `.endswith()` methods, respectively:"
      ]
    },
    {
      "cell_type": "code",
      "execution_count": null,
      "metadata": {
        "id": "NZcykk5UGkwP"
      },
      "outputs": [],
      "source": [
        "\"foodie\".startswith(\"foo\")"
      ]
    },
    {
      "cell_type": "code",
      "execution_count": null,
      "metadata": {
        "id": "a6dQZBtUGkwP"
      },
      "outputs": [],
      "source": [
        "\"foodie\".endswith(\"foo\")"
      ]
    },
    {
      "cell_type": "markdown",
      "metadata": {
        "id": "uzmwhACwGkwP"
      },
      "source": [
        "The `.isdigit()` method returns `True` if Python thinks the string could represent an integer, and `False` otherwise:"
      ]
    },
    {
      "cell_type": "code",
      "execution_count": null,
      "metadata": {
        "id": "wa3RD6GoGkwP"
      },
      "outputs": [],
      "source": [
        "\"foodie\".isdigit()"
      ]
    },
    {
      "cell_type": "code",
      "execution_count": null,
      "metadata": {
        "id": "aM51JclOGkwP"
      },
      "outputs": [],
      "source": [
        "\"4567\".isdigit()"
      ]
    },
    {
      "cell_type": "markdown",
      "metadata": {
        "id": "uFPhmrqJGkwP"
      },
      "source": [
        "The `.isdigit()` method (along with many of the other methods discussed in this section) works not just for ASCII characters but generally across Unicode. (More on Unicode in the coming few classes). For example, it returns `True` for a full-width digit:"
      ]
    },
    {
      "cell_type": "code",
      "execution_count": null,
      "metadata": {
        "id": "PT_E4Y5rGkwP"
      },
      "outputs": [],
      "source": [
        "\"７\".isdigit()"
      ]
    },
    {
      "cell_type": "markdown",
      "metadata": {
        "id": "CUQUEp5EGkwP"
      },
      "source": [
        "And the `.islower()` and `.isupper()` methods return `True` if the string is in all lower case or all upper case, respectively (and `False` otherwise)."
      ]
    },
    {
      "cell_type": "code",
      "execution_count": null,
      "metadata": {
        "id": "5i4ihzqjGkwQ"
      },
      "outputs": [],
      "source": [
        ">>> \"foodie\".islower()"
      ]
    },
    {
      "cell_type": "code",
      "execution_count": null,
      "metadata": {
        "id": "_DBca4W6GkwQ"
      },
      "outputs": [],
      "source": [
        ">>> \"foodie\".isupper()"
      ]
    },
    {
      "cell_type": "code",
      "execution_count": null,
      "metadata": {
        "id": "OXdnnmhkGkwQ"
      },
      "outputs": [],
      "source": [
        "\"YELLING ON THE INTERNET\".islower()"
      ]
    },
    {
      "cell_type": "code",
      "execution_count": null,
      "metadata": {
        "id": "zKIC3hSxGkwQ"
      },
      "outputs": [],
      "source": [
        "\"YELLING ON THE INTERNET\".isupper()"
      ]
    },
    {
      "cell_type": "markdown",
      "metadata": {
        "id": "jP7BldvzGkwQ"
      },
      "source": [
        "The `in` operator discussed above will tell us if a substring occurs in some other string. If we want to know *where* that substring occurs, we can use the `.find()` method. The `.find()` method takes a single parameter between its parentheses: an expression evaluating to a string, which will be searched for within the string whose `.find()` method was called. If the substring is found, the entire expression will evaluate to the index at which the substring is found. If the substring is not found, the expression evaluates to `-1`. To demonstrate:"
      ]
    },
    {
      "cell_type": "code",
      "execution_count": null,
      "metadata": {
        "id": "89rOvpbBGkwQ"
      },
      "outputs": [],
      "source": [
        "\"Now is the winter of our discontent\".find(\"win\")"
      ]
    },
    {
      "cell_type": "code",
      "execution_count": null,
      "metadata": {
        "id": "SeHKM_AAGkwQ"
      },
      "outputs": [],
      "source": [
        "\"Now is the winter of our discontent\".find(\"lose\")"
      ]
    },
    {
      "cell_type": "markdown",
      "metadata": {
        "id": "3AeqwxVcGkwQ"
      },
      "source": [
        "The `.count()` method will return the number of times a particular substring is found within the larger string:"
      ]
    },
    {
      "cell_type": "code",
      "execution_count": null,
      "metadata": {
        "id": "mh7sEJ0OGkwR"
      },
      "outputs": [],
      "source": [
        "\"I got rhythm, I got music, I got my man, who could ask for anything more\".count(\"I got\")"
      ]
    },
    {
      "cell_type": "markdown",
      "metadata": {
        "id": "HE583lwuGkwR"
      },
      "source": [
        "Finally, remember the `==` operator that we discussed earlier? You can use that in Python to check to see if two strings contain the same characters in the same order:"
      ]
    },
    {
      "cell_type": "code",
      "execution_count": null,
      "metadata": {
        "id": "2xnJezvrGkwR"
      },
      "outputs": [],
      "source": [
        "\"pants\" == \"pants\""
      ]
    },
    {
      "cell_type": "code",
      "execution_count": null,
      "metadata": {
        "id": "UPrT3DS8GkwR"
      },
      "outputs": [],
      "source": [
        "\"pants\" == \"trousers\""
      ]
    },
    {
      "cell_type": "markdown",
      "metadata": {
        "id": "eydVil9GGkwR"
      },
      "source": [
        "### Simple string transformations\n",
        "\n",
        "Python strings have a number of different methods which, when called on a string, return a copy of that string with a simple transformation applied to it. These are helpful for normalizing and cleaning up data, or preparing it to be displayed.\n",
        "\n",
        "Let's start with `.lower()`, which evaluates to a copy of the string in all lower case:"
      ]
    },
    {
      "cell_type": "code",
      "execution_count": null,
      "metadata": {
        "id": "LrL119D5GkwR"
      },
      "outputs": [],
      "source": [
        "\"ARGUMENTATION! DISAGREEMENT! STRIFE!\".lower()"
      ]
    },
    {
      "cell_type": "markdown",
      "metadata": {
        "id": "pmjG3ms5GkwR"
      },
      "source": [
        "The converse of `.lower()` is `.upper()`:"
      ]
    },
    {
      "cell_type": "code",
      "execution_count": null,
      "metadata": {
        "id": "VAwKDGZgGkwR"
      },
      "outputs": [],
      "source": [
        "\"e.e. cummings is. not. happy about this.\".upper()"
      ]
    },
    {
      "cell_type": "markdown",
      "metadata": {
        "id": "0EbnW-G1GkwR"
      },
      "source": [
        "The method `.title()` evaluates to a copy of the string it's called on, replacing every letter at the beginning of a word in the string with a capital letter:"
      ]
    },
    {
      "cell_type": "code",
      "execution_count": null,
      "metadata": {
        "id": "HouNNdXrGkwS"
      },
      "outputs": [],
      "source": [
        "\"dr. strangelove, or, how I learned to love the bomb\".title()"
      ]
    },
    {
      "cell_type": "markdown",
      "metadata": {
        "id": "mj_dlKpnGkwS"
      },
      "source": [
        "The `.strip()` method removes any whitespace from the beginning or end of the string (but not between characters later in the string):"
      ]
    },
    {
      "cell_type": "code",
      "execution_count": null,
      "metadata": {
        "id": "_9MCR7p-GkwS"
      },
      "outputs": [],
      "source": [
        "\" got some random whitespace in some places here     \".strip()"
      ]
    },
    {
      "cell_type": "markdown",
      "metadata": {
        "id": "Vvsn98GkGkwS"
      },
      "source": [
        "Finally, the `.replace()` method takes two parameters: a string to find, and a string to replace that string with whenever it's found. You can use this to make sad stories."
      ]
    },
    {
      "cell_type": "code",
      "execution_count": null,
      "metadata": {
        "id": "aoSbZA0HGkwS"
      },
      "outputs": [],
      "source": [
        "\"I got rhythm, I got music, I got my man, who could ask for anything more\".replace(\"I got\", \"I used to have\")"
      ]
    },
    {
      "cell_type": "markdown",
      "metadata": {
        "id": "UZ9kryz2GkwS"
      },
      "source": [
        "The `.replace()` method works with non-ASCII characters as well, of course:"
      ]
    },
    {
      "cell_type": "code",
      "execution_count": null,
      "metadata": {
        "id": "AlIfMxaaGkwS"
      },
      "outputs": [],
      "source": [
        "\"我爱猫！\".replace(\"猫\", \"狗\")"
      ]
    },
    {
      "cell_type": "markdown",
      "metadata": {
        "id": "Y0Ef8qSvGkwS"
      },
      "source": [
        "### Reading in the contents of a file as a string\n",
        "\n",
        "So far we've just been typing our strings directly into the interactive interpreter by writing *string literals* (i.e., characters in between quotation marks). This is nice but for larger chunks of text it's desirable to be able to read in files stored somewhere else. \n",
        "\n",
        "Since we are using Colab, it's a slightly more convoluted process than it would be if we were running this code on a local server, and we'll see a few ways to read in data in the next couple of weeks. But for now, we'll do it the easiest way, by reading in a file stored at a stable external URL. \n",
        "\n",
        "In this case, we'll be reading in the text of a poem (about food!) called `persimmons.txt` into a variable called `text`:"
      ]
    },
    {
      "cell_type": "code",
      "execution_count": null,
      "metadata": {
        "scrolled": true,
        "id": "hC3tc-9SGkwT"
      },
      "outputs": [],
      "source": [
        "import requests \n",
        "\n",
        "response = requests.get('https://raw.githubusercontent.com/laurenfklein/QTM340-Fall22/main/corpora/lee-poems/persimmons.txt')\n",
        "text = response.text"
      ]
    },
    {
      "cell_type": "markdown",
      "metadata": {
        "id": "zuLfav5rGkwT"
      },
      "source": [
        "Did you get an error? (You might have if you are doing this notebook using Jupyter Notebook rather than Colab). If so, see if you can figure out what the problem is and how to fix it, Googling if necessary. "
      ]
    },
    {
      "cell_type": "markdown",
      "metadata": {
        "id": "MkRPVLOXGkwT"
      },
      "source": [
        "Another thing to know: You can change the name of the variable to whatever you want, of course, and you can choose a different file name as well. Once the text is loaded, it's just a regular string, and you can do whatever you want with it! You could just print it out:"
      ]
    },
    {
      "cell_type": "code",
      "execution_count": null,
      "metadata": {
        "id": "Kc68_BEqGkwT"
      },
      "outputs": [],
      "source": [
        "print(text)"
      ]
    },
    {
      "cell_type": "markdown",
      "metadata": {
        "id": "uxP7f2VcGkwT"
      },
      "source": [
        "Or you can ask questions about it:"
      ]
    },
    {
      "cell_type": "code",
      "execution_count": null,
      "metadata": {
        "id": "CBFVrZ97GkwT"
      },
      "outputs": [],
      "source": [
        "text.count(\"you\")"
      ]
    },
    {
      "cell_type": "markdown",
      "metadata": {
        "id": "g7rTsyNPGkwT"
      },
      "source": [
        "Or you can transform it:"
      ]
    },
    {
      "cell_type": "code",
      "execution_count": null,
      "metadata": {
        "scrolled": true,
        "id": "8iwh3RllGkwT"
      },
      "outputs": [],
      "source": [
        "print(text.replace(\"persimmon\", \"banana\"))"
      ]
    },
    {
      "cell_type": "markdown",
      "metadata": {
        "id": "pCKDQPdMGkwT"
      },
      "source": [
        "## Functions and methods\n",
        "\n",
        "Okay, we're getting somewhere together! But I've still been using a lot of jargon when explaning this stuff. One thing that might confuse you: what's a \"function\" and what's a \"method\"?\n",
        "\n",
        "We've talked about two \"functions\" so far: `len()` and `type()`. A function is a special word that you can use in Python expressions that runs some pre-defined code: you put your expression inside the parentheses, and Python sends the result of evaluating that expression to the code in the function. That code operates on the value that you gave it, and then itself evaluates to another value. Using a function in this way is usually called \"calling\" it or \"invoking\" it. The stuff that you put inside the parentheses is called a \"parameter\" or \"argument\"; the value that the function gives back is called its \"return value.\"\n",
        "\n",
        "![expressiondiagram.png](data:image/png;base64,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)\n",
        "\n",
        "The `len()` and `type()` functions are two of what are called \"built-in functions,\" i.e. functions that come with Python and are available whenever you're writing Python code. In Python, built-in functions tend to be able to take many different types of value as parameters. ([There are a lot of other built-in functions](https://docs.python.org/2/library/functions.html), not just `len()` and `type()`! We'll discuss them as the need arises.)\n",
        "\n",
        "> NOTE: You can also write your own functions---we'll learn how to do this later in the class. Writing functions is a good way to avoid repetition in your code and to compartmentalize it.)\n",
        "\n",
        "\"Methods\" work a lot like functions, except in how it looks when you use them. Instead of putting the expression that you want to use them with inside the parentheses, you put the call to the method directly AFTER the expression that you want to call it on, following a period (`.`). Methods, unlike built-in functions, are usually only valid for one type of value; e.g., values of the string type have a `.strip()` method, but integer values don't.\n",
        "\n",
        "It's important to remember that methods can be called both on an expression that evaluates to a particular value AND on a variable that contains that value. So you can do this:"
      ]
    },
    {
      "cell_type": "code",
      "execution_count": null,
      "metadata": {
        "id": "mZvzPkvqGkwU"
      },
      "outputs": [],
      "source": [
        "\"hello\".find('e')"
      ]
    },
    {
      "cell_type": "markdown",
      "metadata": {
        "id": "KmU5lIQzGkwU"
      },
      "source": [
        "...and this:"
      ]
    },
    {
      "cell_type": "code",
      "execution_count": null,
      "metadata": {
        "id": "S1BYylzsGkwU"
      },
      "outputs": [],
      "source": [
        "s = \"hello\"\n",
        "s.find('e')"
      ]
    },
    {
      "cell_type": "markdown",
      "metadata": {
        "id": "2L7CZn8lGkwU"
      },
      "source": [
        "## Getting help in Jupyter Notebook\n",
        "\n",
        "Jupyter Notebook has all kinds of nuggets to help you program in Python. The first one worth mentioning is the `help()` function. Pass any function or method as a parameter to `help()` and you'll get a handy description of the method or function and what it does:"
      ]
    },
    {
      "cell_type": "code",
      "execution_count": null,
      "metadata": {
        "id": "ezx6dFrBGkwU"
      },
      "outputs": [],
      "source": [
        "help(len)"
      ]
    },
    {
      "cell_type": "markdown",
      "metadata": {
        "id": "A8pmGKUaGkwU"
      },
      "source": [
        "Remember above when we were talking about how certain types of value have certain \"methods\" that you can only use with that type of value? Sometimes it's helpful to be reminded of exactly which methods an object supports. You can find this out right in Jupyter Notebook without having to look it up in the documentation using the `dir()` built-in function. Just pass the value that you want to know more about to `dir()`:"
      ]
    },
    {
      "cell_type": "code",
      "execution_count": null,
      "metadata": {
        "id": "EqrauRc2GkwU"
      },
      "outputs": [],
      "source": [
        "dir(\"hello\")"
      ]
    },
    {
      "cell_type": "markdown",
      "metadata": {
        "id": "0awVy2mPGkwU"
      },
      "source": [
        "This is a list of all of the methods that the string type supports. (Ignore anything that begins with two underscores (`__`) for now---those are special weird built-in methods that aren't very useful to call on their own.) If you want to know more about one method in particular, you can type this (note again that you need to NOT include the parentheses after the method):"
      ]
    },
    {
      "cell_type": "code",
      "execution_count": null,
      "metadata": {
        "id": "t82qFBBAGkwV"
      },
      "outputs": [],
      "source": [
        "help(\"hello\".swapcase)"
      ]
    },
    {
      "cell_type": "markdown",
      "metadata": {
        "id": "SEROzL-BGkwV"
      },
      "source": [
        "Hey awesome! We've learned something about another string method. Let's try this method out:"
      ]
    },
    {
      "cell_type": "code",
      "execution_count": null,
      "metadata": {
        "id": "U0VFUPFWGkwV"
      },
      "outputs": [],
      "source": [
        "\"Star Wars Episode IV: A New Hope\".swapcase()"
      ]
    },
    {
      "cell_type": "markdown",
      "metadata": {
        "id": "gEIY9374GkwV"
      },
      "source": [
        "> **EXERCISE 1**: Use `dir()` and `help()` to find and research a string method that isn't mentioned in the notes. Then write an expression using that method."
      ]
    },
    {
      "cell_type": "code",
      "execution_count": null,
      "metadata": {
        "id": "V4o9N3VrGkwV"
      },
      "outputs": [],
      "source": [
        "# YOUR CODE GOES HERE"
      ]
    },
    {
      "cell_type": "markdown",
      "metadata": {
        "id": "zS5t6WVUGkwV"
      },
      "source": [
        "## String indexing\n",
        "\n",
        "Python has some powerful language constructions that allow you to access parts of the string by their numerical position in the string. You can get an individual character of a string by putting square brackets (`[]`) right after an expression that evaluates to a string, and putting inside the square brackets the number that represents which character you want. Here's an example:"
      ]
    },
    {
      "cell_type": "code",
      "execution_count": null,
      "metadata": {
        "id": "s-CfgqkdGkwV"
      },
      "outputs": [],
      "source": [
        "\"bungalow\"[2]"
      ]
    },
    {
      "cell_type": "markdown",
      "metadata": {
        "id": "xSD5Zb6cGkwV"
      },
      "source": [
        "You can also do this with variables that contain string values, of course:"
      ]
    },
    {
      "cell_type": "code",
      "execution_count": null,
      "metadata": {
        "id": "B80InmpxGkwW"
      },
      "outputs": [],
      "source": [
        "message = \"bungalow\"\n",
        "message[2]"
      ]
    },
    {
      "cell_type": "markdown",
      "metadata": {
        "id": "nXy-tGGyGkwW"
      },
      "source": [
        "If we were to say this expression out loud, it might read, \"I have a string, consisting of the characters `b`, `u`, `n`, `g`, `a`, `l`, `o` and  `w`, in that order. Give me back the second item in that string.\" Python evaluates that expression to `n`, which is indeed the second letter in the word \"bungalow.\"\n",
        "\n",
        "### The second letter? Am I seeing things. \"u\" is clearly the second letter.\n",
        "\n",
        "You're right---good catch. But for reasons too complicated to go into here, Python (along with many other programming languages!) starts counting at 0, instead of 1. So what looks like the third letter of the string to human eyes is actually the second letter to Python. The first letter of the string is accessed using index 0, like so:"
      ]
    },
    {
      "cell_type": "code",
      "execution_count": null,
      "metadata": {
        "id": "TT_2zUudGkwW"
      },
      "outputs": [],
      "source": [
        "message[0]"
      ]
    },
    {
      "cell_type": "markdown",
      "metadata": {
        "id": "9zxGzCy5GkwX"
      },
      "source": [
        "The way I like to conceptualize this is to think of list indexes not as specifying the number of the item you want, but instead specifying how \"far away\" from the beginning of the list to look for that value.\n",
        "\n",
        "If you attempt to use a value for the index of a list that is beyond the end of the list (i.e., the value you use is higher than the last index in the list), Python gives you an error:"
      ]
    },
    {
      "cell_type": "code",
      "execution_count": null,
      "metadata": {
        "id": "Aey1U5KaGkwX"
      },
      "outputs": [],
      "source": [
        "message[17]"
      ]
    },
    {
      "cell_type": "markdown",
      "metadata": {
        "id": "WHQZ1h-QGkwX"
      },
      "source": [
        "An individual character from a string still has the same type as the string it came from:"
      ]
    },
    {
      "cell_type": "code",
      "execution_count": null,
      "metadata": {
        "id": "aBrIP8xzGkwY"
      },
      "outputs": [],
      "source": [
        "type(message[3])"
      ]
    },
    {
      "cell_type": "markdown",
      "metadata": {
        "id": "hnsvEk09GkwY"
      },
      "source": [
        "And, of course, a string containing an individual character has a length of 1:"
      ]
    },
    {
      "cell_type": "code",
      "execution_count": null,
      "metadata": {
        "id": "fTPGjUvxGkwY"
      },
      "outputs": [],
      "source": [
        "len(message[3])"
      ]
    },
    {
      "cell_type": "markdown",
      "metadata": {
        "id": "pduBG0EwGkwY"
      },
      "source": [
        "### Indexes can be expressions too\n",
        "\n",
        "The thing that goes inside of the index brackets doesn't have to be a number that you've just typed in there. Any Python expression that evaluates to an integer can go in there."
      ]
    },
    {
      "cell_type": "code",
      "execution_count": null,
      "metadata": {
        "id": "g9fPZCjsGkwZ"
      },
      "outputs": [],
      "source": [
        "message[2 * 3]"
      ]
    },
    {
      "cell_type": "code",
      "execution_count": null,
      "metadata": {
        "id": "hiVjRv9-GkwZ"
      },
      "outputs": [],
      "source": [
        "x = 3\n",
        "message[x]"
      ]
    },
    {
      "cell_type": "code",
      "execution_count": null,
      "metadata": {
        "id": "RpbZZCSbGkwZ"
      },
      "outputs": [],
      "source": [
        "message[message.find(\"a\")]"
      ]
    },
    {
      "cell_type": "markdown",
      "metadata": {
        "id": "_3qcNlxqGkwZ"
      },
      "source": [
        "### Negative indexes\n",
        "\n",
        "If you use `-1` as the value inside of the brackets, something interesting happens:"
      ]
    },
    {
      "cell_type": "code",
      "execution_count": null,
      "metadata": {
        "id": "dkKDIk14GkwZ"
      },
      "outputs": [],
      "source": [
        "message[-1]"
      ]
    },
    {
      "cell_type": "markdown",
      "metadata": {
        "id": "KkIwOqCeGkwa"
      },
      "source": [
        "The expression evaluates to the *last* character in the string. This is essentially the same thing as the following code:"
      ]
    },
    {
      "cell_type": "code",
      "execution_count": null,
      "metadata": {
        "id": "yKef1HyCGkwa"
      },
      "outputs": [],
      "source": [
        "message[len(message) - 1]"
      ]
    },
    {
      "cell_type": "markdown",
      "metadata": {
        "id": "zWKS66hjGkwa"
      },
      "source": [
        "... except easier to write. In fact, you can use any negative integer in the brackets, and Python will count that many items from the end of the string, and the expression evaluates to that item."
      ]
    },
    {
      "cell_type": "code",
      "execution_count": null,
      "metadata": {
        "id": "G5GElaSMGkwb"
      },
      "outputs": [],
      "source": [
        "message[-3]"
      ]
    },
    {
      "cell_type": "markdown",
      "metadata": {
        "id": "Q3GhYpJVGkwb"
      },
      "source": [
        "If the value in the brackets would \"go past\" the beginning of the list, Python will raise an error:"
      ]
    },
    {
      "cell_type": "code",
      "execution_count": null,
      "metadata": {
        "id": "EF6-uA2GGkwb"
      },
      "outputs": [],
      "source": [
        "message[-987]"
      ]
    },
    {
      "cell_type": "markdown",
      "metadata": {
        "id": "NHSDbopiGkwb"
      },
      "source": [
        "## String slices\n",
        "\n",
        "The index bracket syntax explained above allows you to write an expression that evaluates to a character in a string, based on its position in the string. Python also has a powerful way for you to write expressions that return a *section* of a string, starting from a particular index and ending with another index. In Python parlance we'll call this section a *slice*.\n",
        "\n",
        "Writing an expression to get a slice of a string looks a lot like writing an expression to get a single character. The difference is that instead of putting one number between square brackets, we put *two* numbers, separated by a colon. The first number tells Python where to begin the slice, and the second number tells Python where to end it."
      ]
    },
    {
      "cell_type": "code",
      "execution_count": null,
      "metadata": {
        "id": "BYcq1hLFGkwb"
      },
      "outputs": [],
      "source": [
        "message[1:4]"
      ]
    },
    {
      "cell_type": "markdown",
      "metadata": {
        "id": "QuyiM55YGkwb"
      },
      "source": [
        "Note that the value after the colon specifies at which index the slice should end, but the slice does *not* include the value at that index. I would translate the expression above as saying \"give me characters one through four of the string in the \"message\" variable, NOT INCLUDING character four.\"\n",
        "\n",
        "The fact that slice indexes aren't inclusive means that you can tell how long the slice will be by subtracting the value before the colon from the value after it:"
      ]
    },
    {
      "cell_type": "code",
      "execution_count": null,
      "metadata": {
        "id": "fJn2ya0nGkwb"
      },
      "outputs": [],
      "source": [
        "message[1:4]"
      ]
    },
    {
      "cell_type": "code",
      "execution_count": null,
      "metadata": {
        "id": "iff4SKUGGkwc"
      },
      "outputs": [],
      "source": [
        "len(message[1:4])"
      ]
    },
    {
      "cell_type": "code",
      "execution_count": null,
      "metadata": {
        "id": "s6sgBM-6Gkwc"
      },
      "outputs": [],
      "source": [
        "4 - 1"
      ]
    },
    {
      "cell_type": "markdown",
      "metadata": {
        "id": "ID0FM08kGkwc"
      },
      "source": [
        "Also note that---as always!---any expression that evaluates to an integer can be used for either value in the brackets. For example:"
      ]
    },
    {
      "cell_type": "code",
      "execution_count": null,
      "metadata": {
        "id": "90y0BySrGkwc"
      },
      "outputs": [],
      "source": [
        "x = 3\n",
        "message[x:x+2]"
      ]
    },
    {
      "cell_type": "markdown",
      "metadata": {
        "id": "FtSL5w7gGkwc"
      },
      "source": [
        "Finally, note that the type of a slice is still `str`:"
      ]
    },
    {
      "cell_type": "code",
      "execution_count": null,
      "metadata": {
        "id": "vXUqQ9S-Gkwc"
      },
      "outputs": [],
      "source": [
        "type(message[5:7])"
      ]
    },
    {
      "cell_type": "markdown",
      "metadata": {
        "id": "Ygn7fz0AGkwc"
      },
      "source": [
        "### Omitting slice values\n",
        "\n",
        "Because it's so common to use the slice syntax to get a string that is either a slice starting at the beginning of the string or a slice ending at the end of the string, Python has a special shortcut. Instead of writing:"
      ]
    },
    {
      "cell_type": "code",
      "execution_count": null,
      "metadata": {
        "id": "3G9lBJvDGkwd"
      },
      "outputs": [],
      "source": [
        "message[0:3]"
      ]
    },
    {
      "cell_type": "markdown",
      "metadata": {
        "id": "S-a5ypAOGkwd"
      },
      "source": [
        "You can leave out the `0` and write this instead:"
      ]
    },
    {
      "cell_type": "code",
      "execution_count": null,
      "metadata": {
        "id": "mRRkgQKfGkwd"
      },
      "outputs": [],
      "source": [
        "message[:3]"
      ]
    },
    {
      "cell_type": "markdown",
      "metadata": {
        "id": "EizTlXYQGkwd"
      },
      "source": [
        "Likewise, if you wanted a slice that starts at index 4 and goes to the end of the string, you might write:"
      ]
    },
    {
      "cell_type": "code",
      "execution_count": null,
      "metadata": {
        "id": "0sb5Xv0uGkwd"
      },
      "outputs": [],
      "source": [
        "message[4:]"
      ]
    },
    {
      "cell_type": "markdown",
      "metadata": {
        "id": "uxieuWwoGkwe"
      },
      "source": [
        "### Negative index values in slices\n",
        "\n",
        "Now for some tricky stuff: You can use negative index values in slice brackets as well! For example, to get a slice of a string from the fourth-to-last element of the string up to (but not including) the second-to-last element of the string:"
      ]
    },
    {
      "cell_type": "code",
      "execution_count": null,
      "metadata": {
        "id": "yBVCgfu7Gkwe"
      },
      "outputs": [],
      "source": [
        "message[-4:-2]"
      ]
    },
    {
      "cell_type": "markdown",
      "metadata": {
        "id": "9h_Y4KEYGkwe"
      },
      "source": [
        "(Even with negative slice indexes, the numbers have the property that subtracting the first from the second yields the length of the slice, i.e. `-2 - (-4)` is `2`).\n",
        "\n",
        "To get the last three elements of the string:"
      ]
    },
    {
      "cell_type": "code",
      "execution_count": null,
      "metadata": {
        "id": "BQajC1cqGkwe"
      },
      "outputs": [],
      "source": [
        "message[-3:]"
      ]
    },
    {
      "cell_type": "markdown",
      "metadata": {
        "id": "BqynEy_qGkwe"
      },
      "source": [
        "> **EXERCISE 2**: Write an expression, or a series of expressions, that prints out \"Persimmons\" from the first occurence of the string `persimmons` up until the end of the poem. (Hint: Use the `.find()` method, discussed above.)"
      ]
    },
    {
      "cell_type": "code",
      "execution_count": null,
      "metadata": {
        "id": "oqMIdRtbGkwe"
      },
      "outputs": [],
      "source": [
        "# YOUR CODE GOES HERE"
      ]
    },
    {
      "cell_type": "markdown",
      "metadata": {
        "id": "g6uxlBn3Gkwf"
      },
      "source": [
        "## Putting strings together\n",
        "\n",
        "Earlier, we discussed how the `+` operator can be used to create an expression that evaluates to the sum of two numbers. E.g.:"
      ]
    },
    {
      "cell_type": "code",
      "execution_count": null,
      "metadata": {
        "id": "63t5cLQoGkwf"
      },
      "outputs": [],
      "source": [
        "17 + 92"
      ]
    },
    {
      "cell_type": "markdown",
      "metadata": {
        "id": "vtp5rbYFGkwf"
      },
      "source": [
        "The `+` operator can also be used to create a new string from two other strings. This is called \"concatenation\":"
      ]
    },
    {
      "cell_type": "code",
      "execution_count": null,
      "metadata": {
        "id": "8Xgn4x0VGkwf"
      },
      "outputs": [],
      "source": [
        "\"Spider\" + \"man\""
      ]
    },
    {
      "cell_type": "code",
      "execution_count": null,
      "metadata": {
        "id": "nKSCsO2NGkwf"
      },
      "outputs": [],
      "source": [
        "part1 = \"Nickel, what is nickel, \"\n",
        "part2 = \"it is originally rid of a cover.\"\n",
        "part1 + part2"
      ]
    },
    {
      "cell_type": "markdown",
      "metadata": {
        "id": "SH1Uxkh0Gkwf"
      },
      "source": [
        "You can combine as many strings as you want this way, using the `+` operator multiple times in the same expression:"
      ]
    },
    {
      "cell_type": "code",
      "execution_count": null,
      "metadata": {
        "id": "XvSadDIQGkwf"
      },
      "outputs": [],
      "source": [
        "\"bas\" + \"ket\" + \"ball\""
      ]
    },
    {
      "cell_type": "markdown",
      "metadata": {
        "id": "f94i-mDcGkwf"
      },
      "source": [
        "> **EXERCISE 3**: Write an expression that evaluates to a string containing the first fifty characters of \"Persimmons\" followed by the last fifty characters of \"Persimmons.\""
      ]
    },
    {
      "cell_type": "code",
      "execution_count": null,
      "metadata": {
        "id": "Sgo31RA0Gkwg"
      },
      "outputs": [],
      "source": [
        "# YOUR CODE GOES HERE"
      ]
    },
    {
      "cell_type": "markdown",
      "metadata": {
        "id": "0UbzJrB8Gkwg"
      },
      "source": [
        "### Strings and numbers\n",
        "\n",
        "It's important to remember that a string that contains what looks like a number does *not* behave like an actual integer or floating point number does. For example, attempting to subtract one string containing a number from another string containing a number will cause an error to be raised:"
      ]
    },
    {
      "cell_type": "code",
      "execution_count": null,
      "metadata": {
        "id": "Dg25wq2sGkwg"
      },
      "outputs": [],
      "source": [
        "\"15\" - \"4\""
      ]
    },
    {
      "cell_type": "markdown",
      "metadata": {
        "id": "ox67nzp0Gkwg"
      },
      "source": [
        "The \"unsupported operand type(s)\" error means that you tried to use an operator (in this case `+`) with two types that the operator in question doesn't know how to work with. (Python is saying: \"You asked me to subtract a string from another string. That doesn't make sense to me.\")\n",
        "\n",
        "Attempting to add an integer or floating-point number to a string that has (what looks like) a number inside of it will raise a similar error:"
      ]
    },
    {
      "cell_type": "code",
      "execution_count": null,
      "metadata": {
        "id": "dvGjFMJwGkwg"
      },
      "outputs": [],
      "source": [
        "16 + \"8.9\""
      ]
    },
    {
      "cell_type": "markdown",
      "metadata": {
        "id": "A-MnzCnlGkwg"
      },
      "source": [
        "Fortunately, there are built-in functions whose purpose is to convert from one type to another; notably, you can put a string inside the parentheses of the `int()` and `float()` functions, and it will evaluate to (what Python interprets as) the integer and floating-point values (respectively) of the string: "
      ]
    },
    {
      "cell_type": "code",
      "execution_count": null,
      "metadata": {
        "id": "WDEgpcNtGkwg"
      },
      "outputs": [],
      "source": [
        "type(\"17\")"
      ]
    },
    {
      "cell_type": "code",
      "execution_count": null,
      "metadata": {
        "id": "OTQm62a_Gkwg"
      },
      "outputs": [],
      "source": [
        "int(\"17\")"
      ]
    },
    {
      "cell_type": "code",
      "execution_count": null,
      "metadata": {
        "id": "-9EdcxVAGkwh"
      },
      "outputs": [],
      "source": [
        "type(int(\"17\"))"
      ]
    },
    {
      "cell_type": "code",
      "execution_count": null,
      "metadata": {
        "id": "lh2HwV0EGkwh"
      },
      "outputs": [],
      "source": [
        "type(\"3.14159\")"
      ]
    },
    {
      "cell_type": "code",
      "execution_count": null,
      "metadata": {
        "id": "O2PfxQkcGkwh"
      },
      "outputs": [],
      "source": [
        "float(\"3.14159\")"
      ]
    },
    {
      "cell_type": "code",
      "execution_count": null,
      "metadata": {
        "id": "dJHmeezAGkwh"
      },
      "outputs": [],
      "source": [
        "type(float(\"3.14159\"))"
      ]
    },
    {
      "cell_type": "markdown",
      "metadata": {
        "id": "wja47zi4Gkwh"
      },
      "source": [
        "If you give a string to one of these functions that Python can't interpret as an integer or floating-point number, Python will raise an error:"
      ]
    },
    {
      "cell_type": "code",
      "execution_count": null,
      "metadata": {
        "id": "JGn0wRpZGkwh"
      },
      "outputs": [],
      "source": [
        "int(\"shumai\")"
      ]
    },
    {
      "cell_type": "markdown",
      "metadata": {
        "id": "nvTDWIqNGkwh"
      },
      "source": [
        "### Strings with multiple lines\n",
        "\n",
        "Sometimes we want to work with strings that have more than one \"line\" of text in them. The problem with this is that Python interprets your having pressed \"Enter\" with your having finished your input, so if you try to cut-and-paste in some text with new line characters, you'll get an error:"
      ]
    },
    {
      "cell_type": "code",
      "execution_count": null,
      "metadata": {
        "id": "jZb3ZqoqGkwh"
      },
      "outputs": [],
      "source": [
        "poem = \"Rose, harsh rose, \n",
        "marred and with stint of petals, \n",
        "meagre flower, thin, \n",
        "spare of leaf,\""
      ]
    },
    {
      "cell_type": "markdown",
      "metadata": {
        "id": "FUfyXcdFGkwi"
      },
      "source": [
        "(`EOL while scanning string literal` is Python's way of saying \"you hit enter too soon.\") One way to work around this is to include `\\n` (newline character) inside the string when we type it into our program:"
      ]
    },
    {
      "cell_type": "code",
      "execution_count": null,
      "metadata": {
        "id": "1wVySPFKGkwi"
      },
      "outputs": [],
      "source": [
        "poem = \"Rose, harsh rose,\\nmarred and with stint of petals,\\nmeagre flower, thin,\\nspare of leaf,\"\n",
        "print poem"
      ]
    },
    {
      "cell_type": "markdown",
      "metadata": {
        "id": "xOXNHiUmGkwi"
      },
      "source": [
        "This works, but it's kind of inconvenient! A better solution is to use a different way of quoting strings in Python, the triple-quote. It looks like this:"
      ]
    },
    {
      "cell_type": "code",
      "execution_count": null,
      "metadata": {
        "id": "YKyV2-HXGkwi"
      },
      "outputs": [],
      "source": [
        "poem = \"\"\"Rose, harsh rose, \n",
        "marred and with stint of petals, \n",
        "meagre flower, thin, \n",
        "spare of leaf,\"\"\"\n",
        "print poem"
      ]
    },
    {
      "cell_type": "markdown",
      "metadata": {
        "id": "PoLr4oSGGkwi"
      },
      "source": [
        "When you use three quotes instead of one, Python allows you to put new line characters directly into the string. Nice!"
      ]
    },
    {
      "cell_type": "markdown",
      "metadata": {
        "id": "HYKb8F4nGkwi"
      },
      "source": [
        "> **EXERCISE 4**: Create a variable called `poem` and assign the text of \"Persimmon\" to that variable. Use the `len()` function to find out how many characters are in it. Then, use the `count()` method to find out how many times the string `persimmon` occurs within it."
      ]
    },
    {
      "cell_type": "code",
      "execution_count": null,
      "metadata": {
        "id": "Y60h-d7DGkwi"
      },
      "outputs": [],
      "source": [
        "# YOUR CODE GOES HERE"
      ]
    },
    {
      "cell_type": "markdown",
      "metadata": {
        "id": "Knq-tI5tGkwj"
      },
      "source": [
        "## Further reading:\n",
        "\n",
        "* From the official documentation: [Python Tutorial](https://docs.python.org/2/tutorial/index.html) and [Methods of string objects](https://docs.python.org/2/library/stdtypes.html#string-methods).\n",
        "* From [Think Python](http://www.greenteapress.com/thinkpython/html/index.html): [Variables, expressions and statements](http://www.greenteapress.com/thinkpython/html/thinkpython003.html); [Strings](http://www.greenteapress.com/thinkpython/html/thinkpython009.html).\n"
      ]
    },
    {
      "cell_type": "markdown",
      "source": [
        "*This quiz was created by Lauren Klein, adapted from notebooks by [Allison Parrish](http://www.decontextualize.com/).*\n"
      ],
      "metadata": {
        "id": "sLVdFjfzGkwj"
      }
    },
    {
      "cell_type": "code",
      "source": [],
      "metadata": {
        "id": "2E9FKPo6Gz7H"
      },
      "execution_count": null,
      "outputs": []
    }
  ],
  "metadata": {
    "kernelspec": {
      "display_name": "Python 3",
      "language": "python",
      "name": "python3"
    },
    "language_info": {
      "codemirror_mode": {
        "name": "ipython",
        "version": 3
      },
      "file_extension": ".py",
      "mimetype": "text/x-python",
      "name": "python",
      "nbconvert_exporter": "python",
      "pygments_lexer": "ipython3",
      "version": "3.7.2"
    },
    "colab": {
      "name": "hw1-strings.ipynb",
      "provenance": []
    }
  },
  "nbformat": 4,
  "nbformat_minor": 0
}