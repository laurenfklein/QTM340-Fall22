{
  "cells": [
    {
      "cell_type": "markdown",
      "metadata": {
        "id": "KrQ8y5a-ruw0"
      },
      "source": [
        "# Intro to Google Colab (and some other tips and tricks)\n",
        "\n",
        "Google Colab is a cloud-based notebook-style platform for programming in Python (among other languages), which allows you to intersperse executable code with chunks of text like this. It lets you (mostly) avoid the command line, and results in a file that is easy to read and easy to share with others. \n",
        "\n",
        "We'll be using Colab for in-class exercises and for many of the homework assignments. "
      ]
    },
    {
      "cell_type": "markdown",
      "metadata": {
        "id": "1qwEMqtfruw2"
      },
      "source": [
        "## Let's get started!\n",
        "\n",
        "Colab makes it easy for me to share notebooks with you, and for all of us to install any required libraries on a single platform. (This is a big reason why we're using Colab in this class). One caveat about working with notebooks on Colab is that they are shared with you in a read-only format. \n",
        "\n",
        "To get started, your very first step should always be to choose `File > Save a copy in Drive` from the menu at the top of the page, and make all future edits/modifications on that copy.\n",
        "\n",
        "**In general, I recommend naming the file something with your name in it so as to tell it apart from the original.** \n",
        "\n",
        "NB: If you are an advanced Python user and you'd prefer to use git/GitHub to keep track of your notebooks, I will also maintain a repsitory of class notebooks [here](https://github.com/laurenfklein/QTM340-Fall22). "
      ]
    },
    {
      "cell_type": "markdown",
      "metadata": {
        "id": "mYHTz0z0ruw3"
      },
      "source": [
        "## And off we go! \n",
        "\n",
        "A notebook consists of a number of \"cells,\" stacked on the page from top to bottom. Cells can have text or code in them. \n",
        "\n",
        "You can add a new text cell or a code cell by using the `+ Code` or `+ Text` button at the top of the page. \n",
        "\n",
        "When you click one or the other of those buttons, it will add a cell right below the cell you have currently selected. If your cell ends up in the wrong place, you can click the up or down arrow over there on the far right of the cell to move it up or down, until you get it to the spot you intended.\n",
        "\n"
      ]
    },
    {
      "cell_type": "markdown",
      "metadata": {
        "id": "XNToSFy3ruw3"
      },
      "source": [
        "## Your first cell\n",
        "\n",
        "**Let's make a text cell!**\n",
        "\n",
        "To make a new text cell below this one, do this:\n",
        "* Click on this cell to select it.\n",
        "* Click the `+ Text` button at the top of the page. \n",
        "* Type some stuff and press `Shift-Return` (or `Shift-Enter` on some keyboards).  \n",
        "\n",
        "Colab will \"render\" the text and display it on the page in rendered format. You can hit `Return` or `Enter`, or double-click the cell, to edit its contents again. \n",
        "\n",
        "In Colab, you can just use the formatting options at the top of the cell to format the text. \n",
        "\n",
        "NB: If you are curious as to why the formatting options insert some special characers into the text, it is because Colab formats text using a language called Markdown. If you want to learn more about Markdown, [here is a  tutorial](http://markdowntutorial.com/), although I prefer to just consult a cheat sheet like [this one](https://www.markdownguide.org/cheat-sheet/)."
      ]
    },
    {
      "cell_type": "markdown",
      "metadata": {
        "id": "VrJTZSq_ruw3"
      },
      "source": [
        "## Exercise: Make a text cell with some formatting using Markdown\n",
        "\n",
        "Here is your first exericse: Insert a new cell just below this one, and us the formattinng palate to make some text **bold**, some text *italics*, and some:\n",
        "\n",
        "- text\n",
        "- in\n",
        "- a \n",
        "- list\n",
        "\n",
        "---"
      ]
    },
    {
      "cell_type": "markdown",
      "metadata": {
        "id": "7wcdk3nyruw4"
      },
      "source": [
        "## Three helpful shortcuts \n",
        "\n",
        "Instead of pressing `Shift-Enter`, you can press `Alt-Enter` (or `Option-Return` on a Mac) to render the current cell and create a new cell just below. New cells will by default be `Code` cells. \n",
        "\n",
        "To change a code cell to a text cell, you can press `Control-M M`.\n",
        "\n",
        "To change a text cell to a code cell, you can press `Control-M Y`."
      ]
    },
    {
      "cell_type": "markdown",
      "metadata": {
        "id": "izFOYnIlruw4"
      },
      "source": [
        "## Code cells\n",
        "\n",
        "Code cells-- which are actually the default type of cell in Colab-- use the same set of commands as text cells, but instead of rendering the text, they  run chunks of code.\n",
        "\n",
        "Let's not beat around the bush! Press `Shift-Enter` again to run your first chunk of code."
      ]
    },
    {
      "cell_type": "code",
      "execution_count": null,
      "metadata": {
        "id": "tTnJU8I-ruw5"
      },
      "outputs": [],
      "source": [
        "print(\"This is a code cell.\")\n",
        "print(\"\")\n",
        "print(\"Any Python code you type in this cell will be run when you press the 'Run' button\")\n",
        "print(\"up there, or when you press any of the keyboard shortcuts you just learned.\")\n",
        "print(\"\")\n",
        "print(\"If the code evaluates to something, or if it produces output, that output will be\")\n",
        "print(\"shown beneath the cell after you run it.\")\n",
        "print(\"\")\n",
        "print(\"Let's keep on going. Press Shift-Enter to see what this cell produces and keep going\")\n",
        "print(\"with our exercise.\")"
      ]
    },
    {
      "cell_type": "markdown",
      "metadata": {
        "id": "oojumooEruw6"
      },
      "source": [
        "**Sidenote: You just learned how the print function works in Python 3!**\n",
        "\n",
        "And, therefore, an obligatory meme (via [@cszhu on Twitter](https://twitter.com/cszhu/status/1163476712044150790)):\n",
        "\n",
        "<img src=\"https://pbs.twimg.com/media/ECV_5d9U4AA3EqC?format=jpg&name=large\" alt=\"A joke about print statements. Program bug says: You couldn't stop me before. The programmer says: I was alone before. They are pictured next to characters labeled stack overflow and print statements.\" title=\"A joke about print statements\" width=\"500\" /> \n"
      ]
    },
    {
      "cell_type": "markdown",
      "metadata": {
        "id": "elUVDtUhruw6"
      },
      "source": [
        "## A bit more on printing things\n",
        "\n",
        "[Here](https://docs.python.org/3.3/whatsnew/3.0.html) are a few more examples of how to print things. \n",
        "\n",
        "[Here](https://realpython.com/python-print/) is more about `print()` than you likely ever wanted to know."
      ]
    },
    {
      "cell_type": "markdown",
      "metadata": {
        "id": "t3EQlQxhruw6"
      },
      "source": [
        "## Errors \n",
        "\n",
        "If your code generates an error, it will be displayed in addition to any output already produced. \n",
        "\n",
        "**IMPORTANT: These error messages are *incredibly helpful* when debugging. If you get an error, read it and see if it helps point you to where the problem is in your code.**\n",
        "\n",
        "So let's make ourselves an error. We'll commit the cardinal sin of dividing by zero.\n",
        "\n",
        "Run the cell below."
      ]
    },
    {
      "cell_type": "code",
      "execution_count": null,
      "metadata": {
        "id": "M-xX5L7uruw7"
      },
      "outputs": [],
      "source": [
        "print(\"Here is some printing.\")\n",
        "print(\"And now here is an error:\")\n",
        "\n",
        "1 / 0"
      ]
    },
    {
      "cell_type": "markdown",
      "metadata": {
        "id": "7WQvd3nBruw7"
      },
      "source": [
        "## Variables\n",
        "\n",
        "The major difference between Python and R-- at least in terms of getting started-- is that in Python, you can only use `=` to assign variables. \n",
        "\n",
        "Let's assign some variables:"
      ]
    },
    {
      "cell_type": "code",
      "execution_count": null,
      "metadata": {
        "id": "tmSX6xtVruw7"
      },
      "outputs": [],
      "source": [
        "x = 0\n",
        "y = .5\n",
        "z = True # note another difference b/t R and Python: Boolean (T/F) values are not all caps "
      ]
    },
    {
      "cell_type": "markdown",
      "metadata": {
        "id": "-uq7ktKKruw7"
      },
      "source": [
        "## Exercise: Write some code to print out the variables we've just assigned"
      ]
    },
    {
      "cell_type": "code",
      "execution_count": null,
      "metadata": {
        "id": "YREtcN6Rruw8"
      },
      "outputs": [],
      "source": [
        "# your code here"
      ]
    },
    {
      "cell_type": "markdown",
      "metadata": {
        "id": "HsR_0vpGruw8"
      },
      "source": [
        "## Another neat thing about notebooks:\n",
        "\n",
        "Any variables you define or modules you import in one code cell will be available in subsequent code cells. \n",
        "\n",
        "So for instance, if you run the cell below:"
      ]
    },
    {
      "cell_type": "code",
      "execution_count": null,
      "metadata": {
        "id": "GYDSaVmgruw8"
      },
      "outputs": [],
      "source": [
        "import random  # a useful module that we'll come back to later \n",
        "stuff = [\"cheddar\", \"daguerrotype\", \"elephant\", \"flea market\"]\n",
        "\n",
        "print(random.choice(stuff)) # choice is a function that-- you guessed it-- makes a random choice"
      ]
    },
    {
      "cell_type": "markdown",
      "metadata": {
        "id": "Lnh4JtQTruw8"
      },
      "source": [
        "... then in subsequent cells you can do this:"
      ]
    },
    {
      "cell_type": "code",
      "execution_count": null,
      "metadata": {
        "id": "khLnXRhUruw8"
      },
      "outputs": [],
      "source": [
        "print(random.choice(stuff)) # choice is a function that-- you guessed it-- makes a random choice"
      ]
    },
    {
      "cell_type": "markdown",
      "metadata": {
        "id": "xtICOnmZruw9"
      },
      "source": [
        "## Exercise: Write some code and then run it\n",
        "\n",
        "Using the previous two code cells as a guide...\n",
        "- Reassign the \"stuff\" variable with four different words\n",
        "- Use the \"choice\" function, as above, to randomly print one of those four words "
      ]
    },
    {
      "cell_type": "code",
      "execution_count": null,
      "metadata": {
        "id": "0F-3OJM2ruw9"
      },
      "outputs": [],
      "source": [
        "# your code here"
      ]
    },
    {
      "cell_type": "markdown",
      "metadata": {
        "id": "-rLGwf9nruw9"
      },
      "source": [
        "**FYI:** \"stuff\" is a list, which is a type of value in Python which represents a sequence of values. It's a very common and versatile data structure and is often used to represent tabular data (among other information).\n",
        "\n",
        "More on lists in tonight's homework. But to conclude for the day:"
      ]
    },
    {
      "cell_type": "markdown",
      "metadata": {
        "id": "AGStYog5ruw9"
      },
      "source": [
        "## Keyboard shortcuts\n",
        "\n",
        "In Colab, most keyboard shortcuts start with `Control-M`. After that, \n",
        "\n",
        "* `Z` undoes the previous action (inside a cell)\n",
        "* `H` is find and replace\n",
        "* `A` inserts a code cell above\n",
        "* `B` inserts a code cell below\n",
        "* `D` deletes a cell"
      ]
    },
    {
      "cell_type": "markdown",
      "metadata": {
        "id": "rNLRa57Druw9"
      },
      "source": [
        "## Saving / submitting your work\n",
        "\n",
        "In theory, Colab will save your work as you type. If you want to make double sure that your work is saved, `Cmd-S` at any time will save your notebook. (You can also select `File->Save` from the menu up there.\n",
        "\n",
        "When it comes time to submit a notebook for evaluation, select `File > Download as > Download .ipynb`. This is the file that you should submit. \n",
        "\n",
        "NB: Please do not just submit links to Colab notebooks as the grader will need to ensure that you've stopped working and submitted your notebook by a particular date."
      ]
    },
    {
      "cell_type": "markdown",
      "metadata": {
        "id": "wcAVQkw-ruw-"
      },
      "source": [
        "## Viewing / editing notebooks outside of Colab \n",
        "\n",
        "You may have already noticed that just double-clicking on an `.ipynb` file that you've saved to your computer doesn't open it. The technical explanation for this is that Colab runs as a cloud-based server, and every time you do something to / in a notebook file, it invovles a call to that server to figure out what to actually do. \n",
        "\n",
        "Sometimes, however, you just want to easily view or share an `.ipynb` file without a server. In many (but not all) cases, `.ipynb` files hosted on [GitHub](github.com) will render very nicely. To wit, click [here](https://github.com/laurenfklein/QTM340-Fall22/blob/main/notebooks/class3-colab-intro.ipynb) to see how this notebook holds up. But in cases where GitHub fails, or when the file is hosted elsewhere, [nbviewer](http://nbviewer.ipython.org/) is good to know about. Note that the notebook needs to already exist online for nbviewer to work. \n",
        "\n",
        "For times that you don't have internet access, or if you ever want to wean yourself off of Google products, you can also open/edit `.ipynb` files on your computer. To this, I recommend installing [Anaconda Navigator](https://www.anaconda.com/products/distribution), which is free and open source. Once you install that and run it, you will find that a bunch of other software/packages have been installed, which just require that you click to run then. Click on the option for [Jupyter Notebook](https://jupyter.org/) and navigate to your `.ipynb` file from there.  \n",
        "\n"
      ]
    },
    {
      "cell_type": "markdown",
      "source": [
        "*This notebook was created by Lauren Klein in Fall 2019, incorporating materials from [Alison Parish](https://github.com/aparrish/dmep-python-intro) and [Jinho Choi](https://github.com/emory-courses/data-science). It was updated in Fall 2021, Spring 2021, and Fall 2022.*"
      ],
      "metadata": {
        "id": "1dym-wXrso6P"
      }
    },
    {
      "cell_type": "code",
      "execution_count": null,
      "metadata": {
        "id": "1EroHZerruw-"
      },
      "outputs": [],
      "source": []
    }
  ],
  "metadata": {
    "kernelspec": {
      "display_name": "Python 3",
      "language": "python",
      "name": "python3"
    },
    "language_info": {
      "codemirror_mode": {
        "name": "ipython",
        "version": 3
      },
      "file_extension": ".py",
      "mimetype": "text/x-python",
      "name": "python",
      "nbconvert_exporter": "python",
      "pygments_lexer": "ipython3",
      "version": "3.7.2"
    },
    "colab": {
      "name": "class3-colab-intro.ipynb",
      "provenance": [],
      "collapsed_sections": []
    }
  },
  "nbformat": 4,
  "nbformat_minor": 0
}