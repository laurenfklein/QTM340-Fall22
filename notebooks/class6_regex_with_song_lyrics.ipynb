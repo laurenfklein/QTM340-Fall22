{
  "cells": [
    {
      "cell_type": "markdown",
      "metadata": {
        "id": "7u6jd0OYENxH"
      },
      "source": [
        "## Cleaning Song Lyrics with Regex (and more Beautiful Soup)\n",
        "\n",
        "As part of our web scraping lesson last week, we did something like this:"
      ]
    },
    {
      "cell_type": "code",
      "execution_count": null,
      "metadata": {
        "id": "VAPMUOhhENxK"
      },
      "outputs": [],
      "source": [
        "# get the text of some song lyrics\n",
        "import requests \n",
        "\n",
        "resp = requests.get('https://raw.githubusercontent.com/laurenfklein/QTM340-Fall22/main/corpora/lyrics/Beyonce-break-my-soul-lyrics.html')\n",
        "html_str = resp.text"
      ]
    },
    {
      "cell_type": "markdown",
      "source": [],
      "metadata": {
        "id": "C4kihwesKBAo"
      }
    },
    {
      "cell_type": "markdown",
      "metadata": {
        "id": "pejU72MnENxM"
      },
      "source": [
        "And then the BeautifulSoup part of the process..."
      ]
    },
    {
      "cell_type": "code",
      "execution_count": null,
      "metadata": {
        "id": "vJ855JsUENxN"
      },
      "outputs": [],
      "source": [
        "# use BeautifulSoup to find the lyrics tags on the page\n",
        "from bs4 import BeautifulSoup\n",
        "document = BeautifulSoup(html_str, \"html.parser\")\n",
        "\n",
        "lyrics_divs = document.find(\"div\", attrs={\"data-lyrics-container\": \"true\"})\n",
        "\n",
        "# make sure we got something\n",
        "lyrics_divs"
      ]
    },
    {
      "cell_type": "markdown",
      "metadata": {
        "id": "a18LbuBuENxN"
      },
      "source": [
        "And then we did a quick and dirty `.get_text()`"
      ]
    },
    {
      "cell_type": "code",
      "execution_count": null,
      "metadata": {
        "id": "MTBMFP84ENxO"
      },
      "outputs": [],
      "source": [
        "lyrics = lyrics_divs.get_text()\n",
        "\n",
        "lyrics"
      ]
    },
    {
      "cell_type": "markdown",
      "metadata": {
        "id": "xlvok8P-ENxQ"
      },
      "source": [
        "One thing I forgot to mention last class is that you can include a delimeter with the `get_text` method, so that you don't end up with all of those words jammed together. This is how you do it:"
      ]
    },
    {
      "cell_type": "code",
      "execution_count": null,
      "metadata": {
        "id": "DpDMK-WVENxR"
      },
      "outputs": [],
      "source": [
        "lyrics = lyrics_divs.get_text(separator='\\n')\n",
        "    \n",
        "lyrics"
      ]
    },
    {
      "cell_type": "code",
      "execution_count": null,
      "metadata": {
        "id": "l8kvQ9mGENxR"
      },
      "outputs": [],
      "source": [
        "# let's print it out so that we get the newlines formatted properly\n",
        "\n",
        "print(lyrics)"
      ]
    },
    {
      "cell_type": "markdown",
      "metadata": {
        "id": "dQbaaNgPENxS"
      },
      "source": [
        "This is pretty good. But It's still not perfect.\n",
        "\n",
        "**What are some problems with this text?**"
      ]
    },
    {
      "cell_type": "code",
      "execution_count": null,
      "metadata": {
        "id": "7cKXT4pmENxS"
      },
      "outputs": [],
      "source": []
    },
    {
      "cell_type": "code",
      "execution_count": null,
      "metadata": {
        "id": "xmLPicQZENxT"
      },
      "outputs": [],
      "source": []
    },
    {
      "cell_type": "code",
      "execution_count": null,
      "metadata": {
        "id": "M9nRFsSnENxT"
      },
      "outputs": [],
      "source": []
    },
    {
      "cell_type": "markdown",
      "metadata": {
        "id": "24ixsN9YENxT"
      },
      "source": [
        "This is where regex comes in handy.\n",
        "\n",
        "Let's remove the info between brackets.\n",
        "\n",
        "**Which of the functions that we've discussed in class today should we use to remove it?**"
      ]
    },
    {
      "cell_type": "code",
      "execution_count": null,
      "metadata": {
        "id": "f35xHE5pENxT"
      },
      "outputs": [],
      "source": []
    },
    {
      "cell_type": "code",
      "execution_count": null,
      "metadata": {
        "id": "I3K4XEiBENxU"
      },
      "outputs": [],
      "source": []
    },
    {
      "cell_type": "code",
      "execution_count": null,
      "metadata": {
        "id": "nb0e6zZYENxU"
      },
      "outputs": [],
      "source": []
    },
    {
      "cell_type": "markdown",
      "metadata": {
        "id": "vlsP9SWcENxU"
      },
      "source": [
        "Remember that re.sub takes the format:\n",
        "\n",
        "`newstring = re.sub(pattern, replacement, original_string)`\n",
        "\n",
        "When we want to get rid of something without replacing it, we use `\"\"` as the replacement string.\n",
        "\n",
        "So, in our case, we can do something like:\n",
        "\n",
        "`cleaner_lyrics = re.sub(pattern, \"\", lyrics)`\n",
        "\n",
        "**But what goes in the pattern?**"
      ]
    },
    {
      "cell_type": "markdown",
      "metadata": {
        "id": "bT8vOdGPENxU"
      },
      "source": [
        "**Exercise: How can we use regex to remove the brackets and the info betwen them?**\n",
        "\n",
        "Hints:\n",
        "* In order to look for a `[`, you need to escape it like this `\\[`\n",
        "* A `.` represents any character\n",
        "* A `*` after a character matches zero or more instances"
      ]
    },
    {
      "cell_type": "code",
      "execution_count": null,
      "metadata": {
        "id": "jlt8VOkdENxV"
      },
      "outputs": [],
      "source": [
        "import re\n",
        "\n",
        "cleaner_lyrics = re.sub() #fill in the pattern, the replacement, and the original string \n",
        "\n",
        "print(cleaner_lyrics)"
      ]
    },
    {
      "cell_type": "code",
      "execution_count": null,
      "metadata": {
        "id": "A2pAQktfENxV"
      },
      "outputs": [],
      "source": []
    },
    {
      "cell_type": "code",
      "execution_count": null,
      "metadata": {
        "id": "HicinNGcENxV"
      },
      "outputs": [],
      "source": []
    },
    {
      "cell_type": "code",
      "execution_count": null,
      "metadata": {
        "id": "6dqeKNsDENxV"
      },
      "outputs": [],
      "source": []
    },
    {
      "cell_type": "code",
      "execution_count": null,
      "metadata": {
        "id": "BC6VPexqENxV"
      },
      "outputs": [],
      "source": []
    },
    {
      "cell_type": "code",
      "execution_count": null,
      "metadata": {
        "id": "mTccX4s7ENxW"
      },
      "outputs": [],
      "source": []
    },
    {
      "cell_type": "code",
      "execution_count": null,
      "metadata": {
        "id": "mM5peXB3ENxW"
      },
      "outputs": [],
      "source": []
    },
    {
      "cell_type": "markdown",
      "metadata": {
        "id": "o49G5EQjENxY"
      },
      "source": [
        "That's almost all fixed. \n",
        "\n",
        "**How can we remove that first bit of info about in the intro?**\n",
        "\n",
        "Hints: \n",
        "* `.` matches any character... except for newlines!\n",
        "* You can do this with a few iterations if you need to"
      ]
    },
    {
      "cell_type": "code",
      "execution_count": null,
      "metadata": {
        "id": "shZluadOENxa"
      },
      "outputs": [],
      "source": [
        "cleanest_lyrics = re.sub(,  , cleaner_lyrics) #fill in the pattern and the replacement\n",
        "print(cleanest_lyrics)\n",
        "\n"
      ]
    },
    {
      "cell_type": "code",
      "execution_count": null,
      "metadata": {
        "id": "UygSkYoqENxa"
      },
      "outputs": [],
      "source": []
    },
    {
      "cell_type": "code",
      "execution_count": null,
      "metadata": {
        "id": "XccU345yENxa"
      },
      "outputs": [],
      "source": []
    },
    {
      "cell_type": "code",
      "execution_count": null,
      "metadata": {
        "id": "Uvo2apiqENxa"
      },
      "outputs": [],
      "source": []
    },
    {
      "cell_type": "markdown",
      "metadata": {
        "id": "CS7cytU_ENxb"
      },
      "source": [
        "And with that, we're done! \n",
        "\n",
        "Now, one last thing: we need to save our clean lyrics to a file:"
      ]
    },
    {
      "cell_type": "code",
      "execution_count": null,
      "metadata": {
        "id": "NGWaDL51ENxc"
      },
      "outputs": [],
      "source": [
        "# this is how you save a file from Colab to Google Drive\n",
        "\n",
        "from google.colab import drive\n",
        "drive.mount('/content/gdrive')\n",
        "\n",
        "with open(\"/content/gdrive/My Drive/lyrics.txt\", \"w\") as file:\n",
        "    file.writelines(cleanest_lyrics)"
      ]
    },
    {
      "cell_type": "markdown",
      "metadata": {
        "id": "d8g4yze-ENxc"
      },
      "source": [
        "We did it!"
      ]
    },
    {
      "cell_type": "code",
      "execution_count": null,
      "metadata": {
        "id": "ItMHtJq1ENxd"
      },
      "outputs": [],
      "source": []
    },
    {
      "cell_type": "markdown",
      "source": [
        "_Lauren F. Klein wrote version 1.0 of this notebook. Dan Sinykin updated it in 2020 and Lauren Klein updated it again in 2021 and 2022._\n"
      ],
      "metadata": {
        "id": "bJp4pchEKCD2"
      }
    },
    {
      "cell_type": "code",
      "source": [],
      "metadata": {
        "id": "lI8DPq_-KCYF"
      },
      "execution_count": null,
      "outputs": []
    }
  ],
  "metadata": {
    "kernelspec": {
      "display_name": "Python 3",
      "language": "python",
      "name": "python3"
    },
    "language_info": {
      "codemirror_mode": {
        "name": "ipython",
        "version": 3
      },
      "file_extension": ".py",
      "mimetype": "text/x-python",
      "name": "python",
      "nbconvert_exporter": "python",
      "pygments_lexer": "ipython3",
      "version": "3.7.2"
    },
    "colab": {
      "provenance": [],
      "collapsed_sections": []
    }
  },
  "nbformat": 4,
  "nbformat_minor": 0
}