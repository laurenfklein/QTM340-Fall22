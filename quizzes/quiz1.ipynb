{
  "nbformat": 4,
  "nbformat_minor": 0,
  "metadata": {
    "colab": {
      "provenance": [],
      "collapsed_sections": []
    },
    "kernelspec": {
      "name": "python3",
      "display_name": "Python 3"
    },
    "language_info": {
      "name": "python"
    }
  },
  "cells": [
    {
      "cell_type": "markdown",
      "source": [
        "# Quiz 1.\n",
        "\n",
        "Your first quiz consists of **two parts** and some extra credit.\n",
        "\n",
        "Please make a copy of this notebook, inserting your code where specified and inserting any additional cells as you see fit. \n",
        "\n",
        "Please be sure to at least minimally comment your code so that the grader can follow along! \n",
        "\n",
        "Please upload your completed notebook to the assignment page on Canvas."
      ],
      "metadata": {
        "id": "pnQUjifFoTGw"
      }
    },
    {
      "cell_type": "markdown",
      "source": [
        "## Part 1\n",
        "\n",
        "Use the New York Times “Article Search API,” combined with the `requests` library, to search for and print the links to all articles in The New York Times archive that mention Gregory Fenves (Emory’s president) by his full name. (Note: articles that predate his arrival at Emory are fine to include!) \n",
        "\n",
        "Your output should be in the format:\n",
        "\n",
        "```\n",
        "1. http://www.nytimes.com/... \n",
        "2. http://www.nytimes.com/... \n",
        "3. http://www.nytimes.com/...\n",
        "```\n",
        "\n",
        "And so on. \n",
        "\n",
        "\n",
        "**HINTS:**\n",
        "\n",
        "* To do this, you will need to follow the instructions at [this url](https://developer.nytimes.com/get-started) to sign up for a NYT Developer account. \n",
        "* You will also need to read the documentation for the “Article Search API” at [this url](https://developer.nytimes.com/docs/articlesearch-product/1/overview) in order to learn how to formulate your API call and sift through your results. \n",
        "* This exercise is similar *but not identical* to the Genius API lesson. \n",
        "* If you’ve done this correctly, you will end up with 6 articles.\n",
        "\n"
      ],
      "metadata": {
        "id": "IS--D-ndotkO"
      }
    },
    {
      "cell_type": "code",
      "execution_count": null,
      "metadata": {
        "id": "nQYY6g79oPci"
      },
      "outputs": [],
      "source": [
        "# your code here!"
      ]
    },
    {
      "cell_type": "code",
      "source": [],
      "metadata": {
        "id": "MZOwsSCKpje2"
      },
      "execution_count": null,
      "outputs": []
    },
    {
      "cell_type": "code",
      "source": [],
      "metadata": {
        "id": "86NCQMWApjhc"
      },
      "execution_count": null,
      "outputs": []
    },
    {
      "cell_type": "code",
      "source": [
        "# add more code cells if you need them!"
      ],
      "metadata": {
        "id": "7qtyzddRpjn1"
      },
      "execution_count": null,
      "outputs": []
    },
    {
      "cell_type": "markdown",
      "source": [
        "## Part 2\n",
        "\n",
        "Scrape the front page of [The Emory Wheel](https://emorywheel.com/), using `requests` combined with `BeautifulSoup` to print a list of the links to all of the articles listed on the front page.   \n",
        "\n",
        "Your output should be in the format:\n",
        "\n",
        "```\n",
        "1. https://www.emorywheel.com/...\n",
        "2. https://www.emorywheel.com/...\n",
        "3. https://www.emorywheel.com/...\n",
        "```\n",
        "\n",
        "And so on. \n",
        "\n",
        "**HINTS:**\n",
        "*\tThis exercise is similar *but not identical* to the web scraping lesson we did in class. \n",
        "*\tAfter you get the contents of the Wheel front page, look at the HTML in your web browser using Developer Tools (or equivalent), paying special attention to tags that might enclose article metadata/content and that are easy to locate/isolate using the `BeautifulSoup` methods we’ve learned. \n",
        "*\tThis week, I found 53 articles on the front page. Next week the number may be a bit different, but I suspect it will be similar. (In other words, if you end up with a total closer to 20 than 50, you’re likely doing something wrong) \n"
      ],
      "metadata": {
        "id": "rZhTa9rFpqlD"
      }
    },
    {
      "cell_type": "code",
      "source": [
        "# your code here!"
      ],
      "metadata": {
        "id": "K4El_Yp2pjq4"
      },
      "execution_count": null,
      "outputs": []
    },
    {
      "cell_type": "code",
      "source": [],
      "metadata": {
        "id": "TgElSQl_pp1e"
      },
      "execution_count": null,
      "outputs": []
    },
    {
      "cell_type": "code",
      "source": [],
      "metadata": {
        "id": "zrgbRrShpp4C"
      },
      "execution_count": null,
      "outputs": []
    },
    {
      "cell_type": "code",
      "source": [],
      "metadata": {
        "id": "3IKac9ORpp6Z"
      },
      "execution_count": null,
      "outputs": []
    },
    {
      "cell_type": "code",
      "source": [
        "# add more code cells if you need them!"
      ],
      "metadata": {
        "id": "Zr2CP_whpjtE"
      },
      "execution_count": null,
      "outputs": []
    },
    {
      "cell_type": "markdown",
      "source": [
        "## Extra Credit\n",
        "\n",
        "In addition to the links to all of the Emory Wheel articles, also print out the headline of each! "
      ],
      "metadata": {
        "id": "j7JQVPegqfmN"
      }
    },
    {
      "cell_type": "code",
      "source": [
        "# your code here!"
      ],
      "metadata": {
        "id": "PiT3drqDqiH1"
      },
      "execution_count": null,
      "outputs": []
    },
    {
      "cell_type": "code",
      "source": [],
      "metadata": {
        "id": "JGSY1dU0qi_n"
      },
      "execution_count": null,
      "outputs": []
    },
    {
      "cell_type": "code",
      "source": [],
      "metadata": {
        "id": "GJsUDOz1qjCb"
      },
      "execution_count": null,
      "outputs": []
    },
    {
      "cell_type": "code",
      "source": [
        "# add more code cells if you need them!"
      ],
      "metadata": {
        "id": "_T-vc6g3qjFT"
      },
      "execution_count": null,
      "outputs": []
    }
  ]
}